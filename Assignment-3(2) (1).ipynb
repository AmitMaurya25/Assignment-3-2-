{
 "cells": [
  {
   "cell_type": "code",
   "execution_count": null,
   "id": "63e6fb2e-7e3c-41d3-b7bf-2a880ace6857",
   "metadata": {},
   "outputs": [],
   "source": [
    "# Question 1 ------------------------------------------------------------------------>>\n",
    "\n",
    "\n",
    " Here's a Python program that sorts a given list of tuples based on the integer value using a lambda function:\n",
    "\n",
    "\n",
    "    data = [('Sachin Tendulkar', 34357), \n",
    "            ('Ricky Ponting', 27483),\n",
    "            ('Jack Kallis', 25534), \n",
    "            ('Virat Kohli', 24936)]\n",
    "\n",
    "    sorted_data = sorted(data, key=lambda x: x[1])\n",
    "\n",
    "    print(sorted_data)"
   ]
  },
  {
   "cell_type": "code",
   "execution_count": null,
   "id": "18efcc4e-bb4e-4ebf-8332-3ea72024aae1",
   "metadata": {},
   "outputs": [],
   "source": [
    "# Question 2 ------------------------------------------------------------------------>>\n",
    "\n",
    "Here's a Python program that uses lambda and map functions to find the squares of all the numbers in a given list of integers:\n",
    "\n",
    "\n",
    "    numbers = [1, 2, 3, 4, 5, 6, 7, 8, 9, 10]\n",
    "\n",
    "    squares = list(map(lambda x: x**2, numbers))\n",
    "\n",
    "    print(squares)"
   ]
  },
  {
   "cell_type": "code",
   "execution_count": null,
   "id": "72d68d9f-c282-4d61-aeb7-b08f5a5a3645",
   "metadata": {},
   "outputs": [],
   "source": [
    "# Question 3 ------------------------------------------------------------------------>>\n",
    "\n",
    "Here's a Python program that uses map and lambda functions to convert a given list of integers into a tuple of strings:\n",
    "\n",
    "numbers = [1, 2, 3, 4, 5, 6, 7, 8, 9, 10]\n",
    "\n",
    "strings_tuple = tuple(map(lambda x: str(x), numbers))\n",
    "\n",
    "print(strings_tuple)\n",
    "\n",
    "#2 Example-------->>\n",
    "string_data = [1, 2, 3, 4, 5, 6, 7, 8, 9, 10]\n",
    "out_put= tuple(map(lambda x : f'{x}' , string_data))\n",
    "\n"
   ]
  },
  {
   "cell_type": "code",
   "execution_count": null,
   "id": "9829b6b6-af12-465b-bea0-eaeee614f369",
   "metadata": {},
   "outputs": [],
   "source": [
    "# Question 4 ------------------------------------------------------------------------>>\n",
    "\n",
    "Here's a Python program that uses the reduce() function from the functools module to compute the \n",
    "product of a list containing numbers from 1 to 25:\n",
    "\n",
    "\n",
    "    from functools import reduce\n",
    "\n",
    "    numbers = list(range(1, 26))\n",
    "\n",
    "    product = reduce(lambda x, y: x * y, numbers)\n",
    "\n",
    "    print(product)"
   ]
  },
  {
   "cell_type": "code",
   "execution_count": null,
   "id": "e849a8c0-50c5-49d1-aec7-e5dbb40b50a7",
   "metadata": {},
   "outputs": [],
   "source": [
    "# Question 5 ------------------------------------------------------------------------>>\n",
    "\n",
    "Here's a Python program that uses the filter() function to filter the numbers in a given list that are divisible by 2 and 3:\n",
    "\n",
    "\n",
    "    numbers = [2, 3, 6, 9, 27, 60, 90, 120, 55, 46]\n",
    "\n",
    "    filtered_numbers = list(filter(lambda x: x % 2 == 0 and x % 3 == 0, numbers))\n",
    "\n",
    "    print(filtered_numbers)"
   ]
  },
  {
   "cell_type": "code",
   "execution_count": null,
   "id": "d1636f06-cfc2-41d4-b330-848a951956e2",
   "metadata": {},
   "outputs": [],
   "source": [
    "# Question 6  ------------------------------------------------------------------------>>\n",
    "\n",
    "Here's a Python program that uses lambda and filter functions to find palindromes in a given list of strings:\n",
    "\n",
    "\n",
    "strings = ['python', 'php', 'aba', 'radar', 'level']\n",
    "\n",
    "palindromes = list(filter(lambda x: x == x[::-1], strings))\n",
    "\n",
    "print(palindromes)"
   ]
  }
 ],
 "metadata": {
  "kernelspec": {
   "display_name": "Python 3 (ipykernel)",
   "language": "python",
   "name": "python3"
  },
  "language_info": {
   "codemirror_mode": {
    "name": "ipython",
    "version": 3
   },
   "file_extension": ".py",
   "mimetype": "text/x-python",
   "name": "python",
   "nbconvert_exporter": "python",
   "pygments_lexer": "ipython3",
   "version": "3.10.8"
  }
 },
 "nbformat": 4,
 "nbformat_minor": 5
}
